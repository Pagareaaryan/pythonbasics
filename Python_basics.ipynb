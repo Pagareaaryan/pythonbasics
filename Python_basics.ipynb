{
  "nbformat": 4,
  "nbformat_minor": 0,
  "metadata": {
    "colab": {
      "provenance": []
    },
    "kernelspec": {
      "name": "python3",
      "display_name": "Python 3"
    },
    "language_info": {
      "name": "python"
    }
  },
  "cells": [
    {
      "cell_type": "code",
      "execution_count": null,
      "metadata": {
        "id": "4PICE2S3B-QD"
      },
      "outputs": [],
      "source": []
    },
    {
      "cell_type": "markdown",
      "source": [
        "#Python Basics Asignment\n"
      ],
      "metadata": {
        "id": "tgz5OtuMCE5m"
      }
    },
    {
      "cell_type": "markdown",
      "source": [
        "1.  What is Python, and why is it popular\n",
        "    - Python is a high-level, interpreted programming language known for its simplicity and readability.\n",
        "    - It is populat because -  It is easy to use and learn."
      ],
      "metadata": {
        "id": "OYBxsosQCRUJ"
      }
    },
    {
      "cell_type": "markdown",
      "source": [],
      "metadata": {
        "id": "5J7rxlEpCa3P"
      }
    },
    {
      "cell_type": "markdown",
      "source": [
        "2. What is an interpreter in Python ?\n",
        "    - The Python interpreter is a core part of Python’s design, providing flexibility, ease of debugging, and interactive coding capabilities. Its ability to execute code step by step makes Python an excellent choice for both beginners and experienced developers."
      ],
      "metadata": {
        "id": "au805dEbDZvc"
      }
    },
    {
      "cell_type": "markdown",
      "source": [
        "3. What are pre-defined keywords in Python ?\n",
        "  - Python’s pre-defined keywords are crucial for building logic and structure in your programs.\n",
        "  -   False\tBoolean false value\n",
        "  -     None\tRepresents a null value\n",
        "  -   True\tBoolean true value\n",
        "  -    and\tLogical AND operator\n",
        "  -Are some of the pre- defiend functions in python."
      ],
      "metadata": {
        "id": "rQIv6MfiDnWB"
      }
    },
    {
      "cell_type": "markdown",
      "source": [
        "4. Can keywords be used as variable names ?\n",
        "  - No, Python keywords cannot be used as variable names, function names, class names, or any other identifiers."
      ],
      "metadata": {
        "id": "OEpLhkKiEUBZ"
      }
    },
    {
      "cell_type": "markdown",
      "source": [
        "5. What is mutability in Python ?\n",
        "  - Mutability refers to an object's ability to be modified after creation. In Python, data types are categorized into two main types based on their mutability:\n",
        "\n",
        "Mutable Objects → Can be changed after creation.\n",
        "\n",
        "Immutable Objects → Cannot be changed after creation."
      ],
      "metadata": {
        "id": "oKNvxs-dEpK3"
      }
    },
    {
      "cell_type": "markdown",
      "source": [
        "6. Why are lists mutable, but tuples are immutable ?\n",
        "  - The key difference between lists and tuples lies in how they are implemented in memory and their intended usage. This difference defines why lists are mutable and tuples are immutable."
      ],
      "metadata": {
        "id": "7a8aQ3BzE3pP"
      }
    },
    {
      "cell_type": "markdown",
      "source": [
        "7. What is the difference between “==” and “is” operators in Python ?\n",
        "  - 1. == Operator (Value Comparison)\n",
        "The == operator checks if two objects have the same value, regardless of their identity (memory address).\n",
        "\n",
        "  - Even if two variables point to different objects in memory, if their contents are identical, == will return True.\n",
        "  - 2. is Operator (Identity Comparison)\n",
        "The is operator checks if two variables reference the exact same object in memory.\n",
        "\n",
        "  - It returns True only if both variables point to the same memory address."
      ],
      "metadata": {
        "id": "dN-ZKWTsFX-6"
      }
    },
    {
      "cell_type": "markdown",
      "source": [
        "8. What are logical operators in Python ?\n",
        "  - Logical operators are used to perform logical operations on boolean values (i.e., True or False). These operators are typically used in conditional statements, loops, and decision-making logic."
      ],
      "metadata": {
        "id": "FkPWVQ8eF20m"
      }
    },
    {
      "cell_type": "markdown",
      "source": [
        "9.  What is type casting in Python ?\n",
        "  - Type casting (also called type conversion) is the process of converting one data type into another. Python supports two types of type casting:\n",
        "      Implicit Type Casting (Automatic)\n",
        "      Explicit Type Casting (Manual)"
      ],
      "metadata": {
        "id": "cJicGh25GI0p"
      }
    },
    {
      "cell_type": "markdown",
      "source": [
        "10.  What is the difference between implicit and explicit type casting ?\n",
        "  - 1. Implicit Type Casting (Automatic Conversion)\n",
        "Python automatically converts smaller data types into larger data types to prevent data loss.\n",
        "  - 2. Explicit Type Casting (Manual Conversion)\n",
        "The programmer must manually convert the data type using conversion functions like int(), float(), str(), etc.\n",
        "\n",
        "\n",
        "\n"
      ],
      "metadata": {
        "id": "whlPzghTGchY"
      }
    },
    {
      "cell_type": "markdown",
      "source": [
        "11. What is the purpose of conditional statements in Python ?\n",
        "  - Conditional statements in Python are used to make decisions in a program based on certain conditions. They allow the program to execute different blocks of code depending on whether a condition is True or False."
      ],
      "metadata": {
        "id": "dJf_m7ZIG-Bt"
      }
    },
    {
      "cell_type": "markdown",
      "source": [
        "12. How does the elif statement work ?\n",
        "  - The elif statement (short for else if) is used in Python to check multiple conditions sequentially. It allows you to test several conditions one by one until one is True. Once a condition evaluates to True, Python executes that block of code and skips the remaining conditions."
      ],
      "metadata": {
        "id": "nFF5mQhKHKDq"
      }
    },
    {
      "cell_type": "markdown",
      "source": [
        "13. What is the difference between for and while loops ?\n",
        "  - Difference Between for and while Loops in Python\n",
        "Both for and while loops are used to repeat code multiple times, but they have distinct use cases and behavior.\n",
        "  - 1. for Loop — Best for Iterating Over Sequences\n",
        " Use for loops when you know how many times the loop should run.\n",
        "  - 2. while Loop — Best for Unknown Iterations\n",
        "Use while loops when you need to repeat code until a condition becomes False."
      ],
      "metadata": {
        "id": "VLqJ9XzNHRfp"
      }
    },
    {
      "cell_type": "markdown",
      "source": [
        "14.  Describe a scenario where a while loop is more suitable than a for loop.\n",
        "  - Scenario Where a while Loop is More Suitable Than a for Loop\n",
        "  - A while loop is ideal when the number of iterations is unknown and depends on a condition that may change during runtime."
      ],
      "metadata": {
        "id": "RNJRGs_MHlU2"
      }
    },
    {
      "cell_type": "code",
      "source": [
        "\n",
        "\n",
        "# Python program to print \"Hello, World!\"\n",
        "print(\"Hello, World!\")\n"
      ],
      "metadata": {
        "colab": {
          "base_uri": "https://localhost:8080/"
        },
        "id": "C6AM99ZCIIhY",
        "outputId": "2709382d-eadf-4d6d-f976-c3496fc6837e"
      },
      "execution_count": 1,
      "outputs": [
        {
          "output_type": "stream",
          "name": "stdout",
          "text": [
            "Hello, World!\n"
          ]
        }
      ]
    },
    {
      "cell_type": "code",
      "source": [
        "# Python program to display name and age\n",
        "name = \"Aaryan\"\n",
        "age = 20  # Replace this with your age\n",
        "\n",
        "print(\"My name is\", name)\n",
        "print(\"I am\", age, \"years old\")\n"
      ],
      "metadata": {
        "colab": {
          "base_uri": "https://localhost:8080/"
        },
        "id": "qBfYWjMHMAxv",
        "outputId": "92368cfc-8394-4097-8d11-60f3c98c73af"
      },
      "execution_count": 2,
      "outputs": [
        {
          "output_type": "stream",
          "name": "stdout",
          "text": [
            "My name is Aaryan\n",
            "I am 20 years old\n"
          ]
        }
      ]
    },
    {
      "cell_type": "markdown",
      "source": [],
      "metadata": {
        "id": "VzJci0VtHIf4"
      }
    },
    {
      "cell_type": "code",
      "source": [
        "# Import the keyword module\n",
        "import keyword\n",
        "\n",
        "# Display all Python keywords\n",
        "print(\"List of Python Keywords:\\n\")\n",
        "print(keyword.kwlist)\n",
        "\n",
        "# Display total number of keywords\n",
        "print(f\"\\nTotal number of keywords: {len(keyword.kwlist)}\")\n"
      ],
      "metadata": {
        "colab": {
          "base_uri": "https://localhost:8080/"
        },
        "id": "o6KJQxnCMH1o",
        "outputId": "bf075847-fba1-43dd-f06e-1856ed11f639"
      },
      "execution_count": 3,
      "outputs": [
        {
          "output_type": "stream",
          "name": "stdout",
          "text": [
            "List of Python Keywords:\n",
            "\n",
            "['False', 'None', 'True', 'and', 'as', 'assert', 'async', 'await', 'break', 'class', 'continue', 'def', 'del', 'elif', 'else', 'except', 'finally', 'for', 'from', 'global', 'if', 'import', 'in', 'is', 'lambda', 'nonlocal', 'not', 'or', 'pass', 'raise', 'return', 'try', 'while', 'with', 'yield']\n",
            "\n",
            "Total number of keywords: 35\n"
          ]
        }
      ]
    },
    {
      "cell_type": "code",
      "source": [
        "import keyword\n",
        "\n",
        "# Ask the user for input\n",
        "word = input(\"Enter a word to check: \")\n",
        "\n",
        "# Check if the word is a keyword\n",
        "if keyword.iskeyword(word):\n",
        "    print(f\"'{word}' is a Python keyword.\")\n",
        "else:\n",
        "    print(f\"'{word}' is NOT a Python keyword.\")\n"
      ],
      "metadata": {
        "colab": {
          "base_uri": "https://localhost:8080/"
        },
        "id": "48oZenr6MRA1",
        "outputId": "f4624ef1-0f1e-4bb0-e548-423247a46224"
      },
      "execution_count": 5,
      "outputs": [
        {
          "output_type": "stream",
          "name": "stdout",
          "text": [
            "Enter a word to check: hfb\n",
            "'hfb' is NOT a Python keyword.\n"
          ]
        }
      ]
    },
    {
      "cell_type": "code",
      "source": [
        "# Creating a list (mutable)\n",
        "my_list = [10, 20, 30]\n",
        "\n",
        "# Creating a tuple (immutable)\n",
        "my_tuple = (10, 20, 30)\n",
        "\n",
        "# Display original list and tuple\n",
        "print(\"Original List:\", my_list)\n",
        "print(\"Original Tuple:\", my_tuple)\n",
        "\n",
        "# Modifying the list (successful)\n",
        "print(\"\\nModifying the list...\")\n",
        "my_list[1] = 99\n",
        "print(\"Modified List:\", my_list)\n",
        "\n",
        "# Attempting to modify the tuple (will raise an error)\n",
        "print(\"\\nAttempting to modify the tuple...\")\n",
        "try:\n",
        "    my_tuple[1] = 99\n",
        "except TypeError as e:\n",
        "    print(f\"Error: {e}\")\n"
      ],
      "metadata": {
        "colab": {
          "base_uri": "https://localhost:8080/"
        },
        "id": "yeW9lv8mMda-",
        "outputId": "82ffb0e3-1459-4ecf-feea-5af5e292fdc6"
      },
      "execution_count": 6,
      "outputs": [
        {
          "output_type": "stream",
          "name": "stdout",
          "text": [
            "Original List: [10, 20, 30]\n",
            "Original Tuple: (10, 20, 30)\n",
            "\n",
            "Modifying the list...\n",
            "Modified List: [10, 99, 30]\n",
            "\n",
            "Attempting to modify the tuple...\n",
            "Error: 'tuple' object does not support item assignment\n"
          ]
        }
      ]
    },
    {
      "cell_type": "code",
      "source": [
        "# Function to demonstrate mutable argument behavior\n",
        "def modify_list(my_list):\n",
        "    print(\"\\nInside modify_list() before change:\", my_list)\n",
        "    my_list.append(100)  # Modifying the original list\n",
        "    print(\"Inside modify_list() after change:\", my_list)\n",
        "\n",
        "# Function to demonstrate immutable argument behavior\n",
        "def modify_integer(num):\n",
        "    print(\"\\nInside modify_integer() before change:\", num)\n",
        "    num += 10  # This creates a new integer object\n",
        "    print(\"Inside modify_integer() after change:\", num)\n",
        "\n",
        "# Creating a mutable list\n",
        "numbers = [1, 2, 3]\n",
        "\n",
        "# Creating an immutable integer\n",
        "value = 50\n",
        "\n",
        "# Display initial values\n",
        "print(\"Original List:\", numbers)\n",
        "print(\"Original Integer:\", value)\n",
        "\n",
        "# Calling functions\n",
        "modify_list(numbers)\n",
        "modify_integer(value)\n",
        "\n",
        "# Display values after function calls\n",
        "print(\"\\nAfter modify_list() call - List:\", numbers)    # List will be changed\n",
        "print(\"After modify_integer() call - Integer:\", value)  # Integer remains unchanged\n"
      ],
      "metadata": {
        "colab": {
          "base_uri": "https://localhost:8080/"
        },
        "id": "PMmeBs91MvLq",
        "outputId": "1b878028-22f0-482a-e3a8-fcec25372aed"
      },
      "execution_count": 7,
      "outputs": [
        {
          "output_type": "stream",
          "name": "stdout",
          "text": [
            "Original List: [1, 2, 3]\n",
            "Original Integer: 50\n",
            "\n",
            "Inside modify_list() before change: [1, 2, 3]\n",
            "Inside modify_list() after change: [1, 2, 3, 100]\n",
            "\n",
            "Inside modify_integer() before change: 50\n",
            "Inside modify_integer() after change: 60\n",
            "\n",
            "After modify_list() call - List: [1, 2, 3, 100]\n",
            "After modify_integer() call - Integer: 50\n"
          ]
        }
      ]
    },
    {
      "cell_type": "code",
      "source": [
        "# Program for basic arithmetic operations\n",
        "\n",
        "# Taking user input for two numbers\n",
        "num1 = float(input(\"Enter the first number: \"))\n",
        "num2 = float(input(\"Enter the second number: \"))\n",
        "\n",
        "# Performing arithmetic operations\n",
        "print(\"\\nArithmetic Operations Results:\")\n",
        "print(f\"{num1} + {num2} = {num1 + num2}\")     # Addition\n",
        "print(f\"{num1} - {num2} = {num1 - num2}\")     # Subtraction\n",
        "print(f\"{num1} * {num2} = {num1 * num2}\")     # Multiplication\n",
        "\n",
        "# Handling division safely (to avoid division by zero errors)\n",
        "if num2 != 0:\n",
        "    print(f\"{num1} / {num2} = {num1 / num2}\")         # Division\n",
        "    print(f\"{num1} // {num2} = {num1 // num2}\")       # Floor Division\n",
        "    print(f\"{num1} % {num2} = {num1 % num2}\")         # Modulus\n",
        "else:\n",
        "    print(\"Division, Floor Division, and Modulus: Cannot divide by zero.\")\n",
        "\n",
        "# Exponentiation (Power)\n",
        "print(f\"{num1} ** {num2} = {num1 ** num2}\")   # Exponentiation\n"
      ],
      "metadata": {
        "colab": {
          "base_uri": "https://localhost:8080/"
        },
        "id": "QCv8VZGuNAC3",
        "outputId": "13924608-c6bd-4ac9-fcd7-b19136799451"
      },
      "execution_count": 8,
      "outputs": [
        {
          "output_type": "stream",
          "name": "stdout",
          "text": [
            "Enter the first number: 3\n",
            "Enter the second number: 2\n",
            "\n",
            "Arithmetic Operations Results:\n",
            "3.0 + 2.0 = 5.0\n",
            "3.0 - 2.0 = 1.0\n",
            "3.0 * 2.0 = 6.0\n",
            "3.0 / 2.0 = 1.5\n",
            "3.0 // 2.0 = 1.0\n",
            "3.0 % 2.0 = 1.0\n",
            "3.0 ** 2.0 = 9.0\n"
          ]
        }
      ]
    },
    {
      "cell_type": "code",
      "source": [
        "# Program to demonstrate logical operators\n",
        "\n",
        "# Taking user inputs\n",
        "x = int(input(\"Enter the first number (x): \"))\n",
        "y = int(input(\"Enter the second number (y): \"))\n",
        "\n",
        "# Demonstrating 'and' operator\n",
        "print(\"\\nLogical 'and' Operator:\")\n",
        "print(f\"({x} > 5) and ({y} < 10) →\", (x > 5) and (y < 10))\n",
        "\n",
        "# Demonstrating 'or' operator\n",
        "print(\"\\nLogical 'or' Operator:\")\n",
        "print(f\"({x} > 5) or ({y} < 10) →\", (x > 5) or (y < 10))\n",
        "\n",
        "# Demonstrating 'not' operator\n",
        "print(\"\\nLogical 'not' Operator:\")\n",
        "print(f\"not({x} > 5) →\", not (x > 5))\n",
        "print(f\"not({y} < 10) →\", not (y < 10))\n"
      ],
      "metadata": {
        "colab": {
          "base_uri": "https://localhost:8080/"
        },
        "id": "q9h8_O_HNNim",
        "outputId": "daab3779-f81e-4094-f6f0-232e60afffc0"
      },
      "execution_count": 9,
      "outputs": [
        {
          "output_type": "stream",
          "name": "stdout",
          "text": [
            "Enter the first number (x): 3\n",
            "Enter the second number (y): 2\n",
            "\n",
            "Logical 'and' Operator:\n",
            "(3 > 5) and (2 < 10) → False\n",
            "\n",
            "Logical 'or' Operator:\n",
            "(3 > 5) or (2 < 10) → True\n",
            "\n",
            "Logical 'not' Operator:\n",
            "not(3 > 5) → True\n",
            "not(2 < 10) → False\n"
          ]
        }
      ]
    },
    {
      "cell_type": "code",
      "source": [
        "# Program to convert user input to integer, float, and boolean types\n",
        "\n",
        "# Taking user input as a string\n",
        "user_input = input(\"Enter a value: \")\n",
        "\n",
        "# Converting to integer\n",
        "try:\n",
        "    int_value = int(user_input)\n",
        "    print(f\"\\nInteger Conversion: {int_value} (Type: {type(int_value)})\")\n",
        "except ValueError:\n",
        "    print(\"\\nInteger Conversion: Error! Cannot convert to an integer.\")\n",
        "\n",
        "# Converting to float\n",
        "try:\n",
        "    float_value = float(user_input)\n",
        "    print(f\"Float Conversion: {float_value} (Type: {type(float_value)})\")\n",
        "except ValueError:\n",
        "    print(\"Float Conversion: Error! Cannot convert to a float.\")\n",
        "\n",
        "# Converting to boolean\n",
        "bool_value = bool(user_input.strip())  # Empty strings convert to False; non-empty = True\n",
        "print(f\"Boolean Conversion: {bool_value} (Type: {type(bool_value)})\")\n"
      ],
      "metadata": {
        "colab": {
          "base_uri": "https://localhost:8080/"
        },
        "id": "c0QPLzHuNYNh",
        "outputId": "dc717637-ae98-462b-f6ef-60700ac5207c"
      },
      "execution_count": 10,
      "outputs": [
        {
          "output_type": "stream",
          "name": "stdout",
          "text": [
            "Enter a value: 3\n",
            "\n",
            "Integer Conversion: 3 (Type: <class 'int'>)\n",
            "Float Conversion: 3.0 (Type: <class 'float'>)\n",
            "Boolean Conversion: True (Type: <class 'bool'>)\n"
          ]
        }
      ]
    },
    {
      "cell_type": "code",
      "source": [
        "# Program to demonstrate type casting with list elements\n",
        "\n",
        "# Creating a list with mixed data types\n",
        "data = [\"10\", \"20.5\", \"True\", \"False\", \"hello\", \"42\"]\n",
        "\n",
        "# Display the original list\n",
        "print(\"Original List:\", data)\n",
        "\n",
        "# Type casting and displaying results\n",
        "print(\"\\nType Casting Results:\")\n",
        "\n",
        "# Converting elements to integer\n",
        "try:\n",
        "    int_values = [int(item) for item in data]\n",
        "    print(\"Integer Conversion:\", int_values)\n",
        "except ValueError as e:\n",
        "    print(\"Integer Conversion: Error! Some elements cannot be converted to integers.\")\n",
        "\n",
        "# Converting elements to float\n",
        "try:\n",
        "    float_values = [float(item) for item in data]\n",
        "    print(\"Float Conversion:\", float_values)\n",
        "except ValueError as e:\n",
        "    print(\"Float Conversion: Error! Some elements cannot be converted to floats.\")\n",
        "\n",
        "# Converting elements to boolean\n",
        "bool_values = [bool(item) for item in data]\n",
        "print(\"Boolean Conversion:\", bool_values)\n",
        "\n",
        "# Converting elements to string (typically always succeeds)\n",
        "str_values =_\n"
      ],
      "metadata": {
        "id": "G9sS2oFpNkUo"
      },
      "execution_count": null,
      "outputs": []
    },
    {
      "cell_type": "code",
      "source": [
        "# Program to check if a number is positive, negative, or zero\n",
        "\n",
        "# Taking user input\n",
        "try:\n",
        "    num = float(input(\"Enter a number: \"))\n",
        "\n",
        "    # Checking conditions\n",
        "    if num > 0:\n",
        "        print(f\"The number {num} is Positive.\")\n",
        "    elif num < 0:\n",
        "        print(f\"The number {num} is Negative.\")\n",
        "    else:\n",
        "        print(f\"The number is Zero.\")\n",
        "except ValueError:\n",
        "    print(\"Invalid input! Please enter a valid number.\")\n"
      ],
      "metadata": {
        "colab": {
          "base_uri": "https://localhost:8080/"
        },
        "id": "xb6xFtfsNlQQ",
        "outputId": "e7f18ca9-e8e8-490d-a2af-0e9cdefae81a"
      },
      "execution_count": 14,
      "outputs": [
        {
          "output_type": "stream",
          "name": "stdout",
          "text": [
            "Enter a number: -4\n",
            "The number -4.0 is Negative.\n"
          ]
        }
      ]
    },
    {
      "cell_type": "code",
      "source": [
        "# Using a for loop to print numbers from 1 to 10\n",
        "print(\"Numbers from 1 to 10:\")\n",
        "for num in range(1, 11):  # Range starts at 1 and stops before 11\n",
        "    print(num)\n"
      ],
      "metadata": {
        "colab": {
          "base_uri": "https://localhost:8080/"
        },
        "id": "A81DTkWWNtBP",
        "outputId": "f7771374-e9dc-41ac-ea95-28d3de0facc0"
      },
      "execution_count": 15,
      "outputs": [
        {
          "output_type": "stream",
          "name": "stdout",
          "text": [
            "Numbers from 1 to 10:\n",
            "1\n",
            "2\n",
            "3\n",
            "4\n",
            "5\n",
            "6\n",
            "7\n",
            "8\n",
            "9\n",
            "10\n"
          ]
        }
      ]
    },
    {
      "cell_type": "code",
      "source": [
        "# Program to calculate the sum of even numbers between 1 and 50\n",
        "\n",
        "# Initialize the sum variable\n",
        "even_sum = 0\n",
        "\n",
        "# Using a for loop to iterate through numbers 1 to 50\n",
        "for num in range(1, 51):\n",
        "    if num % 2 == 0:     # Check if the number is even\n",
        "        even_sum += num   # Add the even number to the sum\n",
        "\n",
        "# Display the result\n",
        "print(f\"The sum of all even numbers between 1 and 50 is: {even_sum}\")\n",
        "\n"
      ],
      "metadata": {
        "colab": {
          "base_uri": "https://localhost:8080/"
        },
        "id": "AfPBnYihN1_Z",
        "outputId": "2d0c780d-4239-4f4a-abd0-a9858840e62b"
      },
      "execution_count": 17,
      "outputs": [
        {
          "output_type": "stream",
          "name": "stdout",
          "text": [
            "The sum of all even numbers between 1 and 50 is: 650\n"
          ]
        }
      ]
    },
    {
      "cell_type": "code",
      "source": [
        "# Program to reverse a string using a while loop\n",
        "\n",
        "# Taking user input\n",
        "original_str = input(\"Enter a string: \")\n",
        "\n",
        "# Initialize variables\n",
        "reversed_str = \"\"     # To store the reversed string\n",
        "index = len(original_str) - 1  # Start from the last index\n",
        "\n",
        "# Using a while loop to reverse the string\n",
        "while index >= 0:\n",
        "    reversed_str += original_str[index]  # Add characters in reverse order\n",
        "    index -= 1  # Move to the previous character\n",
        "\n",
        "# Display the result\n",
        "print(f\"Reversed string: {reversed_str}\")\n"
      ],
      "metadata": {
        "colab": {
          "base_uri": "https://localhost:8080/"
        },
        "id": "PMNvJPZnOE-m",
        "outputId": "04ba4084-e796-4649-8eca-301592f02784"
      },
      "execution_count": 19,
      "outputs": [
        {
          "output_type": "stream",
          "name": "stdout",
          "text": [
            "Enter a string: 4537262\n",
            "Reversed string: 2627354\n"
          ]
        }
      ]
    },
    {
      "cell_type": "code",
      "source": [
        "# Program to calculate the factorial of a number using a while loop\n",
        "\n",
        "# Taking user input\n",
        "num = int(input(\"Enter a non-negative integer: \"))\n",
        "\n",
        "# Initialize variables\n",
        "factorial = 1\n",
        "counter = num\n",
        "\n",
        "# Handling negative input\n",
        "if num < 0:\n",
        "    print(\"Factorial is not defined for negative numbers.\")\n",
        "else:\n",
        "    # Using a while loop to calculate factorial\n",
        "    while counter > 0:\n",
        "        factorial *= counter   # Multiply the current counter value\n",
        "        counter -= 1           # Decrease the counter by 1\n",
        "\n",
        "    # Display the result\n",
        "    print(f\"The factorial of {num} is: {factorial}\")\n"
      ],
      "metadata": {
        "colab": {
          "base_uri": "https://localhost:8080/"
        },
        "id": "kSwijNe5OI5X",
        "outputId": "cb8b5eb5-01da-437d-8c06-fe92e0b1af9a"
      },
      "execution_count": 22,
      "outputs": [
        {
          "output_type": "stream",
          "name": "stdout",
          "text": [
            "Enter a non-negative integer: 4\n",
            "The factorial of 4 is: 24\n"
          ]
        }
      ]
    }
  ]
}